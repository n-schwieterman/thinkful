{
 "cells": [
  {
   "cell_type": "markdown",
   "metadata": {},
   "source": [
    "Data Source: Amsterdam availability data scraped from AirBnB on December 24th. Question: What are the popular neighborhoods in Amsterdam?\n",
    "\n",
    "The date that they scraped the website would cause some issue.  Being a religious holiday, this is a time when people would stay with their family rather than rent lodging, which would skew this data. An improvement would be scraping the website on a different date, one that is not on a major holiday.\n",
    "\n",
    "\n",
    "\n",
    "Data Source: Mental health services use on September 12, 2001 in San Francisco, CA and New York City, NY. Question: How do patterns of mental health service use vary between cities?\n",
    "\n",
    "This data was collected after the World Trade Center attacks on 9/11.  It's likely that no mental health services were even open in NYC, which would affect the data.  It would be reasonable to expect a possible spike in use in San Francisco given the traumatic event, which would also affect the data.  Some improvements could be moving the date out from 9/11 or use a different city other than NYC and alter the question to include 'mental health service use after the World Trade Center attack between cities'.\n",
    "\n",
    "\n",
    "\n",
    "Data Source: Armenian Pub Survey. Question: What are the most common reasons Armenians visit local pubs?\n",
    "\n",
    "This data source largely comes from young college students, which would not give a true measure for Armenians.  An improvement would be to adjust the question from Armenians to Armenian college students"
   ]
  },
  {
   "cell_type": "code",
   "execution_count": null,
   "metadata": {},
   "outputs": [],
   "source": []
  }
 ],
 "metadata": {
  "kernelspec": {
   "display_name": "Python 3",
   "language": "python",
   "name": "python3"
  },
  "language_info": {
   "codemirror_mode": {
    "name": "ipython",
    "version": 3
   },
   "file_extension": ".py",
   "mimetype": "text/x-python",
   "name": "python",
   "nbconvert_exporter": "python",
   "pygments_lexer": "ipython3",
   "version": "3.7.2"
  }
 },
 "nbformat": 4,
 "nbformat_minor": 2
}
