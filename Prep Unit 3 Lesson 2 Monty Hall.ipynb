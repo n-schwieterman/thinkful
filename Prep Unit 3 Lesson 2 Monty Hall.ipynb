{
 "cells": [
  {
   "cell_type": "markdown",
   "metadata": {},
   "source": [
    "You should always switch your pick to the remaining door.  The probabality of picking a dud door is greater than picking the correct door on your first guess.\n",
    "\n",
    "\n",
    "If you pick wrong on your first guess, the more likely outcome, they only have one door to reveal to you as a dud.  When given the option to switch your guess, you should always do that.  This way, you will only be wrong 1/3 of the time, if you pick the prize with your first guess.  You should assume that you picked wrong on your first guess because that is the most probable outcome.\n",
    "\n",
    "\n",
    "Probabilities if you stick with your initial pick\n",
    "P(P) = 1/3\n",
    "P(D) = 2/3\n",
    "\n",
    "\n",
    "Probabailities if you always switch your pick\n",
    "P(P) = 2/3\n",
    "P(D) = 1/3\n",
    "\n",
    "\n",
    "How does Bayes' Rule apply?\n",
    "\n",
    "At the start, the car has an equal chance to be behind each door, 1/3, so you have a 1/3 chance to choose the car out of the gate. Once you pick, there is a 1/2 chance that Monty will pick either remaining door, but there is also a 0% chance that the door that Monty will reveal has the car behind it.  If the car is behind either of the remaining doors(most likely), Monty only has one choice, or a 100% probability to choose the other remaining door. The probability of your door containing the car is still 1/3, but the probability of the other door containing it becomes 2/3."
   ]
  }
 ],
 "metadata": {
  "kernelspec": {
   "display_name": "Python 3",
   "language": "python",
   "name": "python3"
  },
  "language_info": {
   "codemirror_mode": {
    "name": "ipython",
    "version": 3
   },
   "file_extension": ".py",
   "mimetype": "text/x-python",
   "name": "python",
   "nbconvert_exporter": "python",
   "pygments_lexer": "ipython3",
   "version": "3.7.2"
  }
 },
 "nbformat": 4,
 "nbformat_minor": 2
}
