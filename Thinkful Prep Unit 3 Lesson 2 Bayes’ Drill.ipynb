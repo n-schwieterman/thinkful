{
 "cells": [
  {
   "cell_type": "markdown",
   "metadata": {},
   "source": [
    "Thinkful Unit 3 Lesson 2 Bayes’ Drill\n",
    "\n",
    "Intuition Probabilities \n",
    "10.49%\n",
    "0.49%\n",
    "98%\n",
    "10.02%\n",
    "\n",
    "Calculated Probabilities\n",
    "Return a positive result\n",
    "The probability of returning a positive result would be the probability of the test returning a false positive (10%) if you don’t have Thripshaw’s syndrome (99.5% of the population), plus  the probability returning a true positive (98%) for someone who has Thripshaw’s (0.5%) of the population.\n",
    "\n",
    "P(p) = (0.10 * 0.995) + (0.98 * 0.005) = 0.1044 or 10.44%\n",
    "\n",
    "2)  We would apply Bayes’ Rule to calculate the probability of a correct diagnosis of\tThripshaw’s.  \n",
    "\n",
    "The probability of having Thripshaw's given a positive result equals the probability of getting a positive result given you have Thripshaw's, times the probability of having Thripshaw's, divided by the probability of getting a positive result at all.\n",
    "\n",
    "P(T|p) = P(p|T) * P(T) / P(T|p) * P(T) + P(p|F) * P(F)\n",
    "\n",
    "P(T|p) = (0.98)*(0.005)/(0.98)*(0.005) + (0.1)*(0.995) = 0.0469 or 4.69% of being correctly diagnosed.\n",
    "\n",
    "3)  We would again apply Bayes’ Rule to calculate the probability of correctly identifying a non-sufferer.\n",
    "\n",
    "The probability of being fine given a negative result equals the probability of getting a negative result given you are fine, times the probability being fine, divided by the probability of getting a negative result at all.\n",
    "\n",
    "There is a 90% chance of getting a negative result if you are fine, and a 2% chance of getting a negative result if you have Thripshaw's\n",
    "\n",
    "P(F|N) = P(N|F) * P(F) / P(N|F) * P(F) + P(T|F) * P(T)\n",
    "\n",
    "P(F|N) = (.90)*(.995) / (.90)*(.995) + (.02)*(.005) = .9998 = 99.98%\n",
    "\n",
    "4) Probability to misclassify a person.\n",
    "\n",
    "Find the probabilities of the false results then combining them and subtracting from 1. \n",
    "\n",
    "False Positive = P(F|p) = P(p|F) * P(F) / P(p)\n",
    "\t\t\t  = (.10)*(.995) / (.1044) = .953 or 95.3%\n",
    "False Negative = P(T|N) = P(N|T) * P(T) / P(N)\n",
    "\t\t\t     = (.02)*(.005) / (.8956) = .000112 = .0112%\n",
    "\n",
    "Total = 95.3112%\n",
    "\n",
    "1 - .953112 = .0468 = 4.68% of the time the result is incorrect\n"
   ]
  },
  {
   "cell_type": "code",
   "execution_count": null,
   "metadata": {},
   "outputs": [],
   "source": []
  }
 ],
 "metadata": {
  "kernelspec": {
   "display_name": "Python 3",
   "language": "python",
   "name": "python3"
  },
  "language_info": {
   "codemirror_mode": {
    "name": "ipython",
    "version": 3
   },
   "file_extension": ".py",
   "mimetype": "text/x-python",
   "name": "python",
   "nbconvert_exporter": "python",
   "pygments_lexer": "ipython3",
   "version": "3.7.2"
  }
 },
 "nbformat": 4,
 "nbformat_minor": 2
}
