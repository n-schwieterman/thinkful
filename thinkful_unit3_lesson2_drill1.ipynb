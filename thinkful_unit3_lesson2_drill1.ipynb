{
 "cells": [
  {
   "cell_type": "markdown",
   "metadata": {},
   "source": [
    "Thinkful Unit 3 Lesson 2 Drill 1\n",
    "\n",
    "1)  This would be 1/16 for each pattern.  Each flip has a ½ chance of returning heads or tails so the probability can be calculated ½ * ½ * ½ * ½. \n",
    "\n",
    "2)  24/45\n",
    "\n",
    "3)  0.000005%\n",
    "\n",
    "4)  Because a survey is only being offered on 5% of clicks, users who are more active on the website will get the survey more often than users who are not as active.  This will likely drive up the amount of time on the website that the survey takers give.\n"
   ]
  },
  {
   "cell_type": "code",
   "execution_count": null,
   "metadata": {},
   "outputs": [],
   "source": []
  }
 ],
 "metadata": {
  "kernelspec": {
   "display_name": "Python 3",
   "language": "python",
   "name": "python3"
  },
  "language_info": {
   "codemirror_mode": {
    "name": "ipython",
    "version": 3
   },
   "file_extension": ".py",
   "mimetype": "text/x-python",
   "name": "python",
   "nbconvert_exporter": "python",
   "pygments_lexer": "ipython3",
   "version": "3.7.2"
  }
 },
 "nbformat": 4,
 "nbformat_minor": 2
}
